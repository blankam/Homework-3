{
 "cells": [
  {
   "cell_type": "markdown",
   "metadata": {},
   "source": [
    "# Alec Blankenship (11/11/2015)\n",
    "# Non-linear Dynamics HW 3\n",
    "\n",
    "note, Also in the repository is the mathematica notebook file I along with this notebook file. I was unable to get the latex to output my sympy code and I am not really sure why so I did some of the calculations in the mathematica file. "
   ]
  },
  {
   "cell_type": "code",
   "execution_count": 143,
   "metadata": {
    "collapsed": false
   },
   "outputs": [],
   "source": [
    "from IPython.display import display\n",
    "from sympy import *\n",
    "from sympy.matrices import *\n",
    "from sympy.abc import *\n",
    "init_printing()\n",
    "D1,D2,D0,U1,U2,U0,E,w,p,a= symbols(\"D1 D2 D0 U1 U2 U0 epsilon omega0 phi a\",real=True)"
   ]
  },
  {
   "cell_type": "markdown",
   "metadata": {},
   "source": [
    "Governing Equation:\n",
    "$$\\ddot{u}+\\omega_0 u = \\epsilon f(u,\\dot{u})$$\n",
    "Given:\n",
    "$$f(u,\\dot{u}) = \\dot{u}-\\dot{u}^3$$\n",
    "Assume Solution of u:\n",
    "$$u = u_0(T_0,T_1,..)+\\epsilon u_1(T_),T_1,..)+\\epsilon^2 u_2(T_),T_1,..)$$\n",
    "\n",
    "Note:\n",
    "$$\\frac{dT_n}{dt}=\\epsilon^n$$\n",
    "define\n",
    "$$D_n = \\frac{\\partial}{\\partial T_n}$$\n",
    "Thus,\n",
    "$$\\frac{d^2}{dt^2} = D_0^2+2\\epsilon D_0 D_1+\\epsilon^2(D_1^2+2D_0D_2)+\\cdots$$\n",
    "\n",
    "Next step, substitute into governing equation ignoring $f$ for now\n",
    "$$\\ddot{u}+\\omega_0 u = \\frac{d^2}{dt^2}(u_0(T_0,T_1,..)+\\epsilon u_1(T_),T_1,..)+\\epsilon^2 u_2(T_),T_1,..)+\\omega_0^2[u_0(T_0,T_1,..)+\\epsilon u_1(T_),T_1,..)+\\epsilon^2 u_2(T_),T_1,..)]$$"
   ]
  },
  {
   "cell_type": "code",
   "execution_count": 144,
   "metadata": {
    "collapsed": false
   },
   "outputs": [
    {
     "name": "stdout",
     "output_type": "stream",
     "text": [
      "  2 ⎛                2⎞   ⎛                2⎞ ⎛  2                2           \n",
      "ω₀ ⋅⎝U₀ + U₁⋅ε + U₂⋅ε ⎠ + ⎝U₀ + U₁⋅ε + U₂⋅ε ⎠⋅⎝D₀  + 2⋅D₀⋅D₁⋅ε + ε ⋅D₁ ⊻ 2⋅D₀⋅\n",
      "\n",
      "      ⎞\n",
      "D₁ + 2⎠\n"
     ]
    }
   ],
   "source": [
    "init_printing()\n",
    "Second_Deriv = D0**2+2*E*D0*D1+E**2*(D1^2+2*D0*D1)\n",
    "#Assume solution to u is of the form u = u0+ E*u1+E^2*u2\n",
    "u_assumed = U0+E*U1+E**2*U2\n",
    "#Subbing into the governing equation\n",
    "Govern = Second_Deriv*u_assumed+w**2*u_assumed\n",
    "Govern"
   ]
  },
  {
   "cell_type": "markdown",
   "metadata": {},
   "source": [
    "Equating Like Terms\n",
    "\n",
    "*Order $\\epsilon$*\n",
    "$$D_0^2{u}_0+\\omega_0^2 u_0 = 0$$\n",
    "\n",
    "*Order $\\epsilon^2$*\n",
    "$$D_0^2{u}_1+\\omega_0^2 u_1 = -2D_0D_1u_0+f(u_0,D_0u_0)$$\n",
    "\n",
    "*Order $\\epsilon^3$*\n",
    "$$D_0^2{u}_3+\\omega_0^2 u_3 = F(u_0,u_1,u_2)$$\n",
    "\n",
    "$u$ can be written in exponential form\n",
    "$$u_0 = A(T_0,T_1,T_2,\\ldots)e^{i\\omega_0T_0}+\\bar{A}(T_0,T_1,T_2,\\ldots)e^{-i\\omega_0T_0}$$\n",
    "\n",
    "Substituting into the equation on the order of $\\epsilon^2$\n",
    "\\begin{split}\n",
    "D_0^2{u}_1+\\omega_0^2 u_1 = &-2i\\omega_0 D_1A e^{i\\omega_0T_0}+2i\\omega D_1\\bar{A} e^{-i\\omega_0T_0}\\\\\n",
    "&+f\\left(A e^{i\\omega_0T_0}+\\bar{A}e^{-i\\omega_0T_0},i\\omega_0A e^{i\\omega_0T_0}-i\\omega_0\\bar{A}e^{-i\\omega_0T_0}\\right)\n",
    "\\end{split}\n",
    "\n",
    "The term $A$ should be solved for such that the right hand side of the equation is equal to zero. Expand $f(u_0,D_0u_0)$ as a complex fourier series. taking $n=0$ the following expression can be obtained to solve for A:\n",
    "$$-2i\\omega_0 D_1A+ \\frac{\\omega_0}{2\\pi}\\int_0^{2\\pi/\\omega_0} f e^{-i \\omega_0 T_0}dT_0 = 0$$\n",
    "\n",
    "writing $A$ in terms of polar coordinates:\n",
    "$$A(T_1) = \\frac{1}{2} a(T_1)e^{i\\beta(T_1)}$$\n",
    "\n",
    "thus,\n",
    "$$u_0 =a(T_1)\\cos\\phi,\\quad \\phi = \\omega_0T_0+\\beta(T_1)$$\n"
   ]
  },
  {
   "cell_type": "markdown",
   "metadata": {},
   "source": [
    "Finally, the expressions for $u$ can be found in terms of $\\alpha$ and $\\beta$\n",
    "\n",
    "$$u = a(T_1)\\cos\\left(\\omega_0T_0+\\beta(T_1)\\right)+O(\\epsilon)$$\n",
    "\n",
    "$$\\dot{a} = -\\frac{1}{2\\pi\\omega_0}\\int_0^{2\\pi}\\sin\\phi f(a(T_1)\\cos\\phi,-\\omega_0a(T_1)\\sin\\phi)d\\phi$$\n",
    "\n",
    "$$\\dot{\\beta} = -\\frac{1}{2\\pi\\omega_0 a}\\int_0^{2\\pi}\\cos\\phi f(a(T_1)\\cos\\phi,-\\omega_0a(T_1)\\sin\\phi)d\\phi$$\n",
    "\n",
    "Determining the decay envelope, a. $f(u,\\dot{u})$ must be evaluated in terms of $$f(a(T_1)\\cos\\phi,-\\omega_0a(T_1)\\sin\\phi)$$\n",
    "\n",
    "note, \n",
    "$$f(u,\\dot{u}) = \\epsilon(\\dot{u}-\\dot{u}^3)$$\n",
    "\n",
    "Therefore,\n",
    "$$f(a(T_1)\\cos\\phi,-\\omega_0a(T_1)\\sin\\phi) = -\\omega_0a\\epsilon(T_1)\\sin\\phi-\\epsilon(-\\omega_0a(T_1)\\sin\\phi)^3$$\n",
    "\n",
    "The equation for $a$ becomes:\n",
    "$$\\dot{a} = -\\frac{1}{2\\pi\\omega_0}\\int_0^{2\\pi}\\sin\\phi*(-\\omega_0a\\epsilon(T_1)\\sin\\phi-\\epsilon(-\\omega_0a(T_1)\\sin\\phi)^3)d\\phi$$\n",
    "\n",
    "evaluating the integral in the following cell..."
   ]
  },
  {
   "cell_type": "code",
   "execution_count": 145,
   "metadata": {
    "collapsed": false
   },
   "outputs": [
    {
     "data": {
      "text/plain": [
       "a*omega0*(a**2*omega0**2*(12*pi - 4*sin(2*pi)**3*cos(2*pi) - 3*sin(4*pi)) - 16*pi + 4*sin(4*pi))/16"
      ]
     },
     "execution_count": 145,
     "metadata": {},
     "output_type": "execute_result"
    }
   ],
   "source": [
    "b = integrate(-w*a*sin(p)**2+w**3*a**3*sin(p)**4,(p,0,2*pi))\n",
    "simplify(b)"
   ]
  },
  {
   "cell_type": "markdown",
   "metadata": {},
   "source": [
    "Simplifying the above intgral (taking $sin(n*pi)=0$)...I dont know why it did not do that already...\n",
    "$$\\int_0^{2\\pi}\\sin\\phi*(-\\omega_0a\\epsilon(T_1)\\sin\\phi-\\epsilon(-\\omega_0a(T_1)\\sin\\phi)^3)d\\phi = \\frac{3\\epsilon}{4}a^3\\omega_0^3pi-a\\epsilon\\omega_0pi$$\n",
    "and substituting back into the expression for $\\dot{a}$:\n",
    "\n",
    "$$\\dot{a} = -\\frac{\\epsilon}{2*pi*\\omega_0}[\\frac{3}{4}a^3\\omega_0^3pi-a\\omega_0pi]$$\n"
   ]
  },
  {
   "cell_type": "code",
   "execution_count": 149,
   "metadata": {
    "collapsed": false
   },
   "outputs": [
    {
     "data": {
      "text/plain": [
       "a*epsilon*t*(-0.375*a**2*omega0**2 + 0.5)"
      ]
     },
     "execution_count": 149,
     "metadata": {},
     "output_type": "execute_result"
    }
   ],
   "source": [
    "new = (-E/(2*pi*w))*((3/4)*a**3*w**3*pi-a*w*pi)\n",
    "simplify(new)\n",
    "smalla = integrate(new,t)\n",
    "simplify(smalla)\n"
   ]
  },
  {
   "cell_type": "markdown",
   "metadata": {},
   "source": [
    "$$\\dot{a} = a\\epsilon(\\frac{3}{8}a^2\\omega_0^2+\\frac{1}{2})$$\n",
    "\n",
    "Integrating with respect to time $t$\n",
    "\n",
    "The decay envelope, $a$ becomes:\n",
    "\n",
    "$$a-a_0 = a\\epsilon t(\\frac{-3}{8}a^2\\omega_0^2+\\frac{1}{2})$$\n",
    "\n",
    "$$a = a\\epsilon t(\\frac{-3}{8}a^2\\omega_0^2+\\frac{1}{2})+a_0$$\n",
    "\n",
    "\n",
    "\n",
    "\n",
    "\n"
   ]
  }
 ],
 "metadata": {
  "celltoolbar": "Edit Metadata",
  "kernelspec": {
   "display_name": "Python 3",
   "language": "python",
   "name": "python3"
  },
  "language_info": {
   "codemirror_mode": {
    "name": "ipython",
    "version": 3
   },
   "file_extension": ".py",
   "mimetype": "text/x-python",
   "name": "python",
   "nbconvert_exporter": "python",
   "pygments_lexer": "ipython3",
   "version": "3.4.3"
  }
 },
 "nbformat": 4,
 "nbformat_minor": 0
}
